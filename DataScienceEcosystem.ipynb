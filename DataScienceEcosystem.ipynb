{
 "cells": [
  {
   "cell_type": "markdown",
   "id": "427371e1",
   "metadata": {},
   "source": [
    "<h1>Data Science Tools and Ecosystem</h1>"
   ]
  },
  {
   "cell_type": "markdown",
   "id": "56446eeb",
   "metadata": {},
   "source": [
    "In this notebook, Data Science Tools ,Ecosystem are summarized."
   ]
  },
  {
   "cell_type": "markdown",
   "id": "d72dc7a9",
   "metadata": {},
   "source": [
    "<h2>Some of the popular languages that Data Scientists use are:</h2>\n",
    "    1.Python\n",
    "    2.SQL\n",
    "    3.R"
   ]
  },
  {
   "cell_type": "markdown",
   "id": "49ebcf6a",
   "metadata": {},
   "source": [
    "<h2>Some of the commonly used libraries used by Data Scientists include:</h2>\n",
    "    1.Tensorflow\n",
    "    2.Matplotlib\n",
    "    3.Keras\n",
    "    4.Pandas\n",
    "    5.Scikit-Learn"
   ]
  },
  {
   "cell_type": "markdown",
   "id": "e97c9aca",
   "metadata": {},
   "source": [
    "<h2>Data Science Tools</h2>\n",
    "    1.Jupyter Notebooks\n",
    "    2.Rstudio\n",
    "    3.Apache Spark"
   ]
  },
  {
   "cell_type": "markdown",
   "id": "f20f08ba",
   "metadata": {},
   "source": [
    "<h3>Below are a few examples of evaluating arithmetic expressions in Python</h3>\n",
    "     \n",
    "     3+5 add\n",
    "     \n",
    "     2-1 subtract\n",
    "     \n",
    "     3*4 multiply  \n",
    " "
   ]
  },
  {
   "cell_type": "code",
   "execution_count": 5,
   "id": "ea7f7246",
   "metadata": {},
   "outputs": [
    {
     "data": {
      "text/plain": [
       "17"
      ]
     },
     "execution_count": 5,
     "metadata": {},
     "output_type": "execute_result"
    }
   ],
   "source": [
    "(3*4)+5"
   ]
  },
  {
   "cell_type": "code",
   "execution_count": 6,
   "id": "e4b3ae9a",
   "metadata": {},
   "outputs": [
    {
     "name": "stdout",
     "output_type": "stream",
     "text": [
      "200 minutes is: 3.3333333333333335 hours\n"
     ]
    }
   ],
   "source": [
    "print(\"200 minutes is:\", 200/60, \"hours\")\n"
   ]
  },
  {
   "cell_type": "markdown",
   "id": "2c636175",
   "metadata": {},
   "source": [
    "Objectives: \n",
    "- commonly used libraries used by Data Scientists\n",
    "- examples of evaluating arithmetic expressions in Python\n",
    "- popular languages used by Data Scientists "
   ]
  },
  {
   "cell_type": "markdown",
   "id": "9cee9562",
   "metadata": {},
   "source": [
    "<h2>Author</h2>\n",
    "    Rohit "
   ]
  },
  {
   "cell_type": "code",
   "execution_count": null,
   "id": "44fd9f48",
   "metadata": {},
   "outputs": [],
   "source": []
  }
 ],
 "metadata": {
  "kernelspec": {
   "display_name": "Python 3 (ipykernel)",
   "language": "python",
   "name": "python3"
  },
  "language_info": {
   "codemirror_mode": {
    "name": "ipython",
    "version": 3
   },
   "file_extension": ".py",
   "mimetype": "text/x-python",
   "name": "python",
   "nbconvert_exporter": "python",
   "pygments_lexer": "ipython3",
   "version": "3.11.2"
  }
 },
 "nbformat": 4,
 "nbformat_minor": 5
}
